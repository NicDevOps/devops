{
 "cells": [
  {
   "cell_type": "markdown",
   "metadata": {},
   "source": [
    "# Module 1 Practice\n",
    "\n",
    "### Students will be able to:\n",
    "\n",
    "## 3-1.1 Using Python Modules\n",
    "* Import different Python modules\n",
    "* Compute mathematical expressions using functions from the math module\n",
    "* Recognize the effect of operator precedence\n",
    "* Round real numbers into the nearest integer\n",
    "* Generate (pseudo-)random integers\n",
    "* Select a random element from a list\n",
    "* Shuffle the elements of a list\n",
    "\n",
    "##  3-1.2 Working with Date and Time\n",
    "* Assign and modify a time object (variable)\n",
    "* Assign and modify a date object (variable)\n",
    "* Get the current local date\n",
    "* Assign and modify a datetime object (variable)\n",
    "* Split a datetime object into separate time and date objects\n",
    "* Combine time and date objects into datetime objects\n",
    "* Display a datetime object as a formatted string\n",
    "\n",
    "## 3-1.3 Date and Time Arithmetic\n",
    "\n",
    "* Create timedelta objects\n",
    "* Use timedelta objects to perform date arithmetic\n",
    "* Compare two datetime objects\n",
    "* Build a useful application using timedelta arithmetic\n",
    "\n",
    "## 3-1.4 File System\n",
    "\n",
    "* Identify the platform running a Python script ('Linux', 'win32', 'Darwin')\n",
    "* Get the current working directory\n",
    "* Change the current working directory\n",
    "* List the content of the current working directory\n",
    "* Create a new directory\n",
    "* Remove a directory\n",
    "* Rename files and/or directories\n",
    "* Recognize the difference between a relative path and an absolute path\n",
    "* Test if a path exists\n",
    "* Test if a specific file or directory exists"
   ]
  },
  {
   "cell_type": "markdown",
   "metadata": {},
   "source": [
    "---\n",
    "<font size=\"6\" color=\"#B24C00\"  face=\"verdana\"> <B>Task 1</B></font>\n",
    "\n",
    "## `math` module\n"
   ]
  },
  {
   "cell_type": "code",
   "execution_count": 2,
   "metadata": {},
   "outputs": [
    {
     "name": "stdout",
     "output_type": "stream",
     "text": [
      "3.141592653589793\n"
     ]
    }
   ],
   "source": [
    "# [ ] Use the math module to display an accurate value for pi\n",
    "import math\n",
    "\n",
    "\n",
    "print(math.pi)\n"
   ]
  },
  {
   "cell_type": "code",
   "execution_count": 6,
   "metadata": {},
   "outputs": [
    {
     "name": "stdout",
     "output_type": "stream",
     "text": [
      "6\n",
      "6\n",
      "9\n",
      "6\n",
      "4\n"
     ]
    }
   ],
   "source": [
    "# [ ] Write a program to:\n",
    "# 1) find all the numbers in a list that are divisible by 3\n",
    "# 2) display the square root of these numbers\n",
    "# 3) use a rounding function to display the square roots while ignoring the decimal fraction\n",
    "\n",
    "from math import sqrt\n",
    "\n",
    "lst = [23, 45, 65, 2345, 42, 76, 37, 87, 647, 35, 37 ,39, 898, 92, 18]\n",
    "\n",
    "for x in lst:\n",
    "    if x % 3 == 0:\n",
    "        s = sqrt(x)\n",
    "        print(math.trunc(s))\n",
    "\n"
   ]
  },
  {
   "cell_type": "markdown",
   "metadata": {},
   "source": [
    "---\n",
    "<font size=\"6\" color=\"#B24C00\"  face=\"verdana\"> <B>Task 2</B></font>\n",
    "\n",
    "## Mathematical operators\n"
   ]
  },
  {
   "cell_type": "markdown",
   "metadata": {},
   "source": [
    "### Coin calculators\n",
    "\n",
    "In the following exercises, you will develop functions to count the number of coins in a certain dollar amount. You will then use these functions to write a program that can calculate the change due to a customer in coins."
   ]
  },
  {
   "cell_type": "markdown",
   "metadata": {},
   "source": [
    "#### Quarters"
   ]
  },
  {
   "cell_type": "code",
   "execution_count": 54,
   "metadata": {},
   "outputs": [
    {
     "name": "stdout",
     "output_type": "stream",
     "text": [
      "Test with $2:\n",
      "Number of quarters in 200 is = 8\n",
      "Remaining cents: 0\n",
      "\n",
      "Test with $5.30:\n",
      "Number of quarters in 530.0 is = 21.0\n",
      "Remaining cents: 5.0\n",
      "\n",
      "Test with $9.49:\n",
      "Number of quarters in 949.0 is = 37.0\n",
      "Remaining cents: 24.0\n"
     ]
    }
   ],
   "source": [
    "# [ ] Complete the function `quarters_count` so it calculates and prints the number of quarters in `input_cents`\n",
    "# The function input `input_cents` should be in cents \n",
    "# The function should print the number of calculated quarters in `input_cents`\n",
    "# The function should return the number of remaining cents `remaining_cents` (which is less than 25, why?)\n",
    "# HINT: You might want to use % and // operators\n",
    "\n",
    "def quarters_count(input_cents):\n",
    "    q = input_cents % 25\n",
    "    print('Number of quarters in',input_cents, 'is =', input_cents // 25)\n",
    "    return q\n",
    "\n",
    "print('Test with $2:')\n",
    "# Output should be: 8 quarter\\s\n",
    "\n",
    "dollars = 2\n",
    "total_cents = dollars * 100\n",
    "remaining_cents = quarters_count(total_cents)\n",
    "print('Remaining cents:', remaining_cents)\n",
    "\n",
    "print('\\nTest with $5.30:')\n",
    "# Output should be: 21.0 quarter\\s\n",
    "\n",
    "dollars = 5.30\n",
    "total_cents = dollars * 100\n",
    "remaining_cents = quarters_count(total_cents)\n",
    "print('Remaining cents:', remaining_cents)\n",
    "\n",
    "print('\\nTest with $9.49:')\n",
    "# Output should be: 37.0 quarter\\s\n",
    "\n",
    "dollars = 9.49\n",
    "total_cents = dollars * 100\n",
    "remaining_cents = quarters_count(total_cents)\n",
    "print('Remaining cents:' ,remaining_cents)\n"
   ]
  },
  {
   "cell_type": "markdown",
   "metadata": {},
   "source": [
    "#### Dimes"
   ]
  },
  {
   "cell_type": "code",
   "execution_count": 57,
   "metadata": {},
   "outputs": [
    {
     "name": "stdout",
     "output_type": "stream",
     "text": [
      "test with $2\n",
      "Number of dimes in 200 is = 20\n",
      "Remaining cents: 0\n",
      "\n",
      "test with $5.30\n",
      "Number of dimes in 530.0 is = 53.0\n",
      "Remaining cents: 0.0\n",
      "\n",
      "test with $9.49\n",
      "Number of dimes in 949.0 is = 94.0\n",
      "Remaining cents: 9.0\n"
     ]
    }
   ],
   "source": [
    "# [ ] Complete the function `dimes_count` so it calculates and prints the number of dimes in `input_cents`\n",
    "# The function input `input_cents` should be in cents \n",
    "# The function should print the number of calculated dimes in `input_cents`\n",
    "# The function should return the number of remaining cents `remaining_cents` (which is less than 10, why?)\n",
    "# HINT: You might want to use % and // operators\n",
    "\n",
    "def dimes_count(input_cents):\n",
    "    d = input_cents % 10\n",
    "    print('Number of dimes in',input_cents, 'is =', input_cents // 10)\n",
    "    return d\n",
    "    \n",
    "print('test with $2')\n",
    "# Output should be: 20 dime\\s\n",
    "dollars = 2\n",
    "total_cents = dollars * 100\n",
    "remaining_cents = dimes_count(total_cents)\n",
    "print('Remaining cents:', remaining_cents)\n",
    "      \n",
    "print('\\ntest with $5.30')\n",
    "# Output should be: 53.0 dime\\s\n",
    "dollars = 5.30\n",
    "total_cents = dollars * 100\n",
    "remaining_cents = dimes_count(total_cents)\n",
    "print('Remaining cents:', remaining_cents)\n",
    "      \n",
    "print('\\ntest with $9.49')\n",
    "# Output should be: 94.0 dime\\s\n",
    "dollars = 9.49\n",
    "total_cents = dollars * 100\n",
    "remaining_cents = dimes_count(total_cents)\n",
    "print('Remaining cents:', remaining_cents)"
   ]
  },
  {
   "cell_type": "markdown",
   "metadata": {},
   "source": [
    "#### Nickels"
   ]
  },
  {
   "cell_type": "code",
   "execution_count": 61,
   "metadata": {},
   "outputs": [
    {
     "name": "stdout",
     "output_type": "stream",
     "text": [
      "test with $2\n",
      "Number of nickels in 200 is = 40\n",
      "Remaining cents: 0\n",
      "\n",
      "test with $5.30\n",
      "Number of nickels in 530.0 is = 106.0\n",
      "Remaining cents: 0.0\n",
      "\n",
      "test with $9.49\n",
      "Number of nickels in 949.0 is = 189.0\n",
      "Remaining cents: 4.0\n"
     ]
    }
   ],
   "source": [
    "# [ ] Complete the function `nickels_count` so it calculates and prints the number of nickels in `input_cents`\n",
    "# The function input `input_cents` should be in cents \n",
    "# The function should print the number of calculated nickels in `input_cents`\n",
    "# The function should return the number of remaining cents `remaining_cents` (which is less than 5, why?)\n",
    "# HINT: You might want to use % and // operators\n",
    "\n",
    "def nickels_count(input_cents):\n",
    "    n = input_cents % 5\n",
    "    print('Number of nickels in',input_cents, 'is =', input_cents // 5)\n",
    "    return n\n",
    "\n",
    "print('test with $2')\n",
    "# Output should be: 40 nickel\\s\n",
    "dollars = 2\n",
    "total_cents = dollars * 100\n",
    "remaining_cents = nickels_count(total_cents)\n",
    "print('Remaining cents:', remaining_cents)\n",
    "\n",
    "print('\\ntest with $5.30')\n",
    "# Output should be: 106.0 nickel\\s\n",
    "dollars = 5.30\n",
    "total_cents = dollars * 100\n",
    "remaining_cents = nickels_count(total_cents)\n",
    "print('Remaining cents:', remaining_cents)\n",
    "\n",
    "print('\\ntest with $9.49')\n",
    "# Output should be: 189.0 nickel\\s\n",
    "dollars = 9.49\n",
    "total_cents = dollars * 100\n",
    "remaining_cents = nickels_count(total_cents)\n",
    "print('Remaining cents:', remaining_cents)\n",
    "\n"
   ]
  },
  {
   "cell_type": "markdown",
   "metadata": {},
   "source": [
    "#### Change calculator"
   ]
  },
  {
   "cell_type": "code",
   "execution_count": 63,
   "metadata": {},
   "outputs": [
    {
     "name": "stdout",
     "output_type": "stream",
     "text": [
      "Change due:\n",
      "Number of quarters in 463.0 is = 18.0\n",
      "Number of dimes in 13.0 is = 1.0\n",
      "Number of nickels in 3.0 is = 0.0\n",
      "Number of cents = 3.0\n"
     ]
    }
   ],
   "source": [
    "# [ ] Complete the function `coins_due` to calculate and print the change due to a customer in coins\n",
    "#\n",
    "# The function `coins_due` has 2 inputs:\n",
    "#      - `amount_paid`: Amount paid by a customer (in cents)\n",
    "#      - `item_price`: Purchase price of an item\n",
    "#\n",
    "# The function should print:\n",
    "#      - The number of quarters due\n",
    "#      - The number of dimes due\n",
    "#      - The number of nickels due\n",
    "#      - The number of cents due\n",
    "#      \n",
    "# The function does not need to return anything\n",
    "#\n",
    "# HINT: Use the functions you developed before `quarters_count`, `dimes_count`, `nickels_count`\n",
    "\n",
    "\n",
    "def quarters_count(input_cents):\n",
    "    q = input_cents % 25\n",
    "    print('Number of quarters in',input_cents, 'is =', input_cents // 25)\n",
    "    return q\n",
    "\n",
    "def dimes_count(input_cents):\n",
    "    d = input_cents % 10\n",
    "    print('Number of dimes in',input_cents, 'is =', input_cents // 10)\n",
    "    return d\n",
    "\n",
    "def nickels_count(input_cents):\n",
    "    n = input_cents % 5\n",
    "    print('Number of nickels in',input_cents, 'is =', input_cents // 5)\n",
    "    return n\n",
    "\n",
    "def coins_due(amount_paid, item_price):\n",
    "    print(\"Change due:\")\n",
    "    r = amount_paid - item_price\n",
    "    r1 = quarters_count(r)\n",
    "    r2 = dimes_count(r1)\n",
    "    r3 = nickels_count(r2)\n",
    "    print('Number of cents =', r3)\n",
    "\n",
    "# Test case:\n",
    "# amount paid = $10, item price = $5.37\n",
    "# Output should be: \n",
    "#    Change due:\n",
    "#    18.0 quarter\\s\n",
    "#    1.0 dime\\s\n",
    "#    0.0 nickel\\s\n",
    "#    3.0 cent\\s\n",
    "\n",
    "amount_paid = 10 * 100 # in cents\n",
    "item_price = 5.37 * 100 # in cents\n",
    "coins_due(amount_paid, item_price)\n",
    "\n"
   ]
  },
  {
   "cell_type": "markdown",
   "metadata": {},
   "source": [
    "---\n",
    "<font size=\"6\" color=\"#B24C00\"  face=\"verdana\"> <B>Task 3</B></font>\n",
    "\n",
    "## Random numbers\n"
   ]
  },
  {
   "cell_type": "markdown",
   "metadata": {},
   "source": [
    "### Probability of a die roll\n",
    "\n",
    "It is possible to mathematically predict the probability (or chance) of getting a certain die roll; however, in this exercise you will use Python to do it without math. The trick is to roll a die a large number of times and count how many times we get a certain roll. You can, then, divide the count by the large number to get the probability. For a fair 6-sided die, the chance of getting any of its faces is about 16.6%"
   ]
  },
  {
   "cell_type": "code",
   "execution_count": 22,
   "metadata": {},
   "outputs": [
    {
     "name": "stdout",
     "output_type": "stream",
     "text": [
      "Enter number of faces: 6\n",
      "Set a base ten exponent to calculate a large number of rolls to expect more acurate results \"2 for 100, 3 for 1000, 4 for 10000\": 6\n",
      "Enter the face number to calculate the probability result: 1\n",
      "\n",
      "The probability to get the 1 face results on a 6 faces die is: 16.714716714716715 %\n"
     ]
    }
   ],
   "source": [
    "# [ ] Complete the following program to display the probability of a certain die roll\n",
    "# def die_roller ():\n",
    "#   return(randint(1, 6))\n",
    "\n",
    "from random import randint\n",
    "\n",
    "set_n_faces = int(input('Enter number of faces: '))\n",
    "set_exp = 10 ** (int(input('Set a base ten exponent to calculate a large number of rolls to expect more acurate results \"2 for 100, 3 for 1000, 4 for 10000\": ')))\n",
    "certain_roll = int(input('Enter the face number to calculate the probability result: '))\n",
    "\n",
    "def die_roller (faces):\n",
    "    return(randint(1, faces))\n",
    "\n",
    "def acuracy(rolls):\n",
    "    y = []\n",
    "    for x in range(1, rolls):\n",
    "        r = die_roller(set_n_faces)\n",
    "        y.append(r)\n",
    "    return y\n",
    "\n",
    "def probability(c):\n",
    "    o = acuracy(set_exp)\n",
    "    z = o.count(c)\n",
    "    r = (z / len(o)) * 100\n",
    "    return r\n",
    "\n",
    "print('\\nThe probability to get the', certain_roll, 'face results on a', set_n_faces, 'faces die is:', probability(certain_roll), '%', )\n",
    "    \n"
   ]
  },
  {
   "cell_type": "markdown",
   "metadata": {},
   "source": [
    "### Roll till you get 11\n",
    "\n",
    "In this exercise, you will count the number of times you need to roll a set of 2 dice till you get a roll sum of 11."
   ]
  },
  {
   "cell_type": "code",
   "execution_count": 21,
   "metadata": {},
   "outputs": [
    {
     "name": "stdout",
     "output_type": "stream",
     "text": [
      "You need to roll 15 times to get a roll sum of 11\n"
     ]
    }
   ],
   "source": [
    "# [ ] Complete the following program so you can count the number of times needed to get a roll sum of 11\n",
    "\n",
    "from random import randint\n",
    "\n",
    "def die_roller():\n",
    "    return(randint(1, 6))\n",
    "\n",
    "def roll_sum():\n",
    "    return die_roller() + die_roller()\n",
    "\n",
    "count = 0\n",
    "\n",
    "while roll_sum() != 11:\n",
    "    count += 1\n",
    "\n",
    "print('You need to roll', count + 1, 'times to get a roll sum of 11')\n",
    "\n"
   ]
  },
  {
   "cell_type": "code",
   "execution_count": 29,
   "metadata": {},
   "outputs": [
    {
     "name": "stdout",
     "output_type": "stream",
     "text": [
      "Set a base ten exponent to calculate a large number of rolls: 6\n",
      "\n",
      "Acuracy has been set to roll 1000000 times:\n",
      "\n",
      "The probability to have the sum 2 is 2.805002805002805 %\n",
      "The probability to have the sum 3 is 5.530505530505531 %\n",
      "The probability to have the sum 4 is 8.31970831970832 %\n",
      "The probability to have the sum 5 is 11.092811092811093 %\n",
      "The probability to have the sum 6 is 13.832913832913832 %\n",
      "The probability to have the sum 7 is 16.688316688316686 %\n",
      "The probability to have the sum 8 is 13.903413903413902 %\n",
      "The probability to have the sum 9 is 11.132011132011133 %\n",
      "The probability to have the sum 10 is 8.353208353208354 %\n",
      "The probability to have the sum 11 is 5.552105552105552 %\n",
      "The probability to have the sum 12 is 2.79000279000279 %\n"
     ]
    }
   ],
   "source": [
    "# Some random fun ;P\n",
    "\n",
    "from random import randint\n",
    "\n",
    "set_acuracy = 10 ** int(input('Set a base ten exponent to calculate a large number of rolls: '))\n",
    "\n",
    "\n",
    "def die_roller():\n",
    "    return (randint(1, 6))\n",
    "\n",
    "def roll_sum():\n",
    "    return die_roller() + die_roller()\n",
    "\n",
    "# ask_sum() generate a list of all possible sums generated by a roll of 2 six faces dices\n",
    "\n",
    "def ask_sum():\n",
    "    s = []\n",
    "    for x in range(2, 13):\n",
    "        s.append(x)\n",
    "    return s\n",
    "\n",
    "# roll_list() arguments : set_a provide by set_accuracy() and sum_lst for the list of sums generated by roll_sum()\n",
    "# the function return a list of all sums rolled by roll sums function 'n' number of times.\n",
    "\n",
    "def roll_list(set_a):\n",
    "    r = []\n",
    "    for x in range(1, set_a):\n",
    "        roll = roll_sum()\n",
    "        r.append(roll)\n",
    "    return r\n",
    "\n",
    "\n",
    "def probability(r_lst, sum_lst):\n",
    "    for x in sum_lst:\n",
    "        o = r_lst.count(x)\n",
    "        p = (o / len(r_lst)) * 100\n",
    "        print('The probability to have the sum', x, 'is', p, '%')\n",
    "\n",
    "ans1 = ask_sum()\n",
    "ans2 = roll_list(set_acuracy)\n",
    "\n",
    "print()\n",
    "print('Acuracy has been set to roll', set_acuracy, 'times:\\n')\n",
    "\n",
    "probability(ans2, ans1)\n"
   ]
  },
  {
   "cell_type": "markdown",
   "metadata": {},
   "source": [
    "### Pick a candy\n",
    "\n",
    "In this exercise, you will write a program to randomly select a candy from a box."
   ]
  },
  {
   "cell_type": "code",
   "execution_count": 139,
   "metadata": {},
   "outputs": [
    {
     "name": "stdout",
     "output_type": "stream",
     "text": [
      "Chocolate\n"
     ]
    }
   ],
   "source": [
    "# [ ] Complete the function `pick_candy` so it returns a candy from box at random\n",
    "\n",
    "from random import choice\n",
    "\n",
    "def pick_candy():\n",
    "    box = [\"Taffy\", \"Brownie\", \"Cookie\", \"Candy bar\", \"Chocolate\", \"Lollipop\", \"Gingerbread\", \"Marshmallow\"]\n",
    "    c = choice(box)\n",
    "    return c\n",
    "\n",
    "print(pick_candy())\n",
    "\n"
   ]
  },
  {
   "cell_type": "markdown",
   "metadata": {},
   "source": [
    "### Shuffle a sorted list"
   ]
  },
  {
   "cell_type": "code",
   "execution_count": 140,
   "metadata": {},
   "outputs": [
    {
     "name": "stdout",
     "output_type": "stream",
     "text": [
      "[29, 102, 3, 62, 5, 394, 594, 35, 59, 9, 1993, 69]\n"
     ]
    }
   ],
   "source": [
    "# [ ] Write a program to shuffle the following sorted list\n",
    "\n",
    "from random import shuffle\n",
    "\n",
    "lst = [3, 5, 9, 29, 35, 59, 62, 69, 102, 394, 594, 1993]\n",
    "\n",
    "shuffle(lst)\n",
    "\n",
    "print(lst)\n",
    "\n"
   ]
  },
  {
   "cell_type": "markdown",
   "metadata": {},
   "source": [
    "---\n",
    "<font size=\"6\" color=\"#B24C00\"  face=\"verdana\"> <B>Task 4</B></font>\n",
    "\n",
    "## Working with date and time\n"
   ]
  },
  {
   "cell_type": "markdown",
   "metadata": {},
   "source": [
    "### Current date and time"
   ]
  },
  {
   "cell_type": "code",
   "execution_count": 141,
   "metadata": {},
   "outputs": [
    {
     "name": "stdout",
     "output_type": "stream",
     "text": [
      "02:31 AM\n"
     ]
    }
   ],
   "source": [
    "# [ ] Write a program that displays the current time as (HH:MM AM/PM) (example 02:28 PM)\n",
    "from datetime import datetime, time\n",
    "\n",
    "ct = datetime.today()\n",
    "\n",
    "print(ct.strftime(\"%I:%M %p\"))"
   ]
  },
  {
   "cell_type": "code",
   "execution_count": 142,
   "metadata": {},
   "outputs": [
    {
     "name": "stdout",
     "output_type": "stream",
     "text": [
      "02:32:36\n"
     ]
    }
   ],
   "source": [
    "# [ ] Write a program that displays the current time as (HH:MM:SS) (example 14:28:10)\n",
    "from datetime import datetime, time\n",
    "\n",
    "ct = datetime.today()\n",
    "\n",
    "print(ct.strftime(\"%H:%M:%S\"))\n"
   ]
  },
  {
   "cell_type": "code",
   "execution_count": 143,
   "metadata": {},
   "outputs": [
    {
     "name": "stdout",
     "output_type": "stream",
     "text": [
      "Thursday, June 11,2020\n"
     ]
    }
   ],
   "source": [
    "# [ ] Write a program that displays the current date as (Friday, December 15, 2017)\n",
    "from datetime import datetime, time\n",
    "\n",
    "ct = datetime.today()\n",
    "\n",
    "print(ct.strftime(\"%A, %B %d,%Y\"))\n"
   ]
  },
  {
   "cell_type": "markdown",
   "metadata": {},
   "source": [
    "### American VS European date format\n",
    "\n",
    "In the United States, the date is formatted as Month/Day/Year; whereas, in Europe the date is formatted as Day/Month/Year. In this exercise, you will write two functions that will display a `datetime` object in the American or European format."
   ]
  },
  {
   "cell_type": "code",
   "execution_count": 145,
   "metadata": {},
   "outputs": [
    {
     "name": "stdout",
     "output_type": "stream",
     "text": [
      "American format: 02/13/2012\n",
      "European format: 13/02/2012\n"
     ]
    }
   ],
   "source": [
    "# [ ] Complete the functions `american_format(d)` and `european_format(d)` to display the datetime object d in the proper format\n",
    "\n",
    "from datetime import datetime\n",
    "\n",
    "def american_format(d):\n",
    "    return d.strftime(\"%m/%d/%Y\")\n",
    "    \n",
    "def european_format(d):\n",
    "    return d.strftime(\"%d/%m/%Y\")\n",
    "    \n",
    "# test\n",
    "d = datetime(month = 2, year = 2012, day = 13)\n",
    "\n",
    "print(\"American format:\", american_format(d))\n",
    "print(\"European format:\", european_format(d))\n",
    "\n",
    "\n"
   ]
  },
  {
   "cell_type": "markdown",
   "metadata": {},
   "source": [
    "### Birthday days"
   ]
  },
  {
   "cell_type": "code",
   "execution_count": 5,
   "metadata": {},
   "outputs": [
    {
     "name": "stdout",
     "output_type": "stream",
     "text": [
      "Monday May 1982\n",
      "Tuesday May 1983\n",
      "Thursday May 1984\n",
      "Friday May 1985\n",
      "Saturday May 1986\n",
      "Sunday May 1987\n",
      "Tuesday May 1988\n",
      "Wednesday May 1989\n",
      "Thursday May 1990\n",
      "Friday May 1991\n",
      "Sunday May 1992\n",
      "Monday May 1993\n",
      "Tuesday May 1994\n",
      "Wednesday May 1995\n",
      "Friday May 1996\n",
      "Saturday May 1997\n",
      "Sunday May 1998\n",
      "Monday May 1999\n",
      "Wednesday May 2000\n",
      "Thursday May 2001\n",
      "Friday May 2002\n",
      "Saturday May 2003\n",
      "Monday May 2004\n",
      "Tuesday May 2005\n",
      "Wednesday May 2006\n",
      "Thursday May 2007\n",
      "Saturday May 2008\n",
      "Sunday May 2009\n",
      "Monday May 2010\n",
      "Tuesday May 2011\n",
      "Thursday May 2012\n",
      "Friday May 2013\n",
      "Saturday May 2014\n",
      "Sunday May 2015\n",
      "Tuesday May 2016\n",
      "Wednesday May 2017\n",
      "Thursday May 2018\n",
      "Friday May 2019\n",
      "Sunday May 2020\n",
      "Monday May 2021\n",
      "Tuesday May 2022\n",
      "Wednesday May 2023\n",
      "Friday May 2024\n",
      "Saturday May 2025\n"
     ]
    }
   ],
   "source": [
    "# [ ] Write a program to display a list of all your birthdays from the day you were born till 2025.\n",
    "# You should also show the weekdays so you can see which of them was (or will be) on a weekend\n",
    "\n",
    "from datetime import datetime\n",
    "\n",
    "db = datetime(year = 1982, month = 5, day = 17)\n",
    "\n",
    "for birthday in range(0, 44):\n",
    "    y = db.replace(year = 1982 + birthday)\n",
    "    print(y.strftime('%A %B %Y'))"
   ]
  },
  {
   "cell_type": "markdown",
   "metadata": {},
   "source": [
    "---\n",
    "<font size=\"6\" color=\"#B24C00\"  face=\"verdana\"> <B>Task 5</B></font>\n",
    "\n",
    "## Date and Time Arithmetic\n"
   ]
  },
  {
   "cell_type": "markdown",
   "metadata": {},
   "source": [
    "### `timedelta`"
   ]
  },
  {
   "cell_type": "code",
   "execution_count": 9,
   "metadata": {},
   "outputs": [
    {
     "name": "stdout",
     "output_type": "stream",
     "text": [
      "There is 40320.0 minutes in a 4 week period\n"
     ]
    }
   ],
   "source": [
    "# Write a program to find out how many minutes are in a 4-week period\n",
    "# Hint: Use a timedelta object and the total_seconds() method\n",
    "\n",
    "from datetime import timedelta\n",
    "\n",
    "td = timedelta(weeks = 4)\n",
    "\n",
    "many_minutes = td.total_seconds() / 60\n",
    "\n",
    "print('There is', many_minutes, 'minutes in a 4 week period')"
   ]
  },
  {
   "cell_type": "markdown",
   "metadata": {},
   "source": [
    "### Date arithmetic"
   ]
  },
  {
   "cell_type": "code",
   "execution_count": 5,
   "metadata": {},
   "outputs": [
    {
     "name": "stdout",
     "output_type": "stream",
     "text": [
      "There is 198 days remaining in the current year\n"
     ]
    }
   ],
   "source": [
    "# [ ] Write a program to compute the number of days remaining in the current year\n",
    "\n",
    "from datetime import datetime\n",
    "from math import ceil\n",
    "\n",
    "date1 = datetime.today()\n",
    "\n",
    "date2 = datetime(year = date1.year, month = 12, day = 31)\n",
    "\n",
    "rem = date2 - date1\n",
    "\n",
    "rem_days = rem.total_seconds() / 60 / 60 / 24\n",
    "\n",
    "print('There is', ceil(rem_days), 'days remaining in the current year')"
   ]
  },
  {
   "cell_type": "markdown",
   "metadata": {},
   "source": [
    "### Comparing `datetime` objects"
   ]
  },
  {
   "cell_type": "code",
   "execution_count": 7,
   "metadata": {},
   "outputs": [
    {
     "name": "stdout",
     "output_type": "stream",
     "text": [
      "July 4th is not within 10 days from today's date\n"
     ]
    }
   ],
   "source": [
    "# [ ] Complete the program below to find out if July 4th is within 10 days of today's date,\n",
    "# if it is, find out if has passed or not\n",
    "\n",
    "from datetime import datetime\n",
    "from math import fabs\n",
    "\n",
    "# get today's date\n",
    "todays_date = datetime.today()\n",
    "\n",
    "# 4th of July of current year\n",
    "july_4th = datetime(month = 7, day = 4, year = todays_date.year)\n",
    "\n",
    "days_difference = july_4th - todays_date\n",
    "\n",
    "#print(days_difference.days)\n",
    "\n",
    "if fabs(days_difference.days) <= 10:\n",
    "    if july_4th > todays_date:\n",
    "        print(\"July 4th is within the next 10 days from today's date\")\n",
    "    elif july_4th == todays_date:\n",
    "        print(\"We are July 4th\")\n",
    "    else:\n",
    "        print(\"July 4th is within the previous 10 days from today's date\")   \n",
    "else:\n",
    "    print(\"July 4th is not within 10 days from today's date\")"
   ]
  },
  {
   "cell_type": "markdown",
   "metadata": {},
   "source": [
    "---\n",
    "<font size=\"6\" color=\"#B24C00\"  face=\"verdana\"> <B>Task 6</B></font>\n",
    "\n",
    "## File System\n"
   ]
  },
  {
   "cell_type": "markdown",
   "metadata": {},
   "source": [
    "### Directory operations"
   ]
  },
  {
   "cell_type": "code",
   "execution_count": 27,
   "metadata": {},
   "outputs": [
    {
     "name": "stdout",
     "output_type": "stream",
     "text": [
      "Current working directory /home/nick/projects/devops/edx/dev330/parent_dir/practice_1\n",
      "Listing directory in current directory ['practice_2']\n",
      "Listing directory in current directory ['sub_practice_2']\n",
      "Listing directory in current directory ['child1_dir', 'parent_leaf.txt', 'text_file.txt', 'child2_dir']\n"
     ]
    }
   ],
   "source": [
    "# [ ] Complete the following program to:\n",
    "# 1) navigate to `parent_dir` directory (if not already in it)\n",
    "# 2) create a new directory called `practice_1`\n",
    "# 3) change the working directory to `practice_1`\n",
    "# 4) display the current working directory to verify you are in the correct location\n",
    "# 5) create a new directory called `practice_2`\n",
    "# 6) verify that `practice_2` was created by listing the content of the current directory\n",
    "# 7) rename `practice_2` as `sub_practice_2`\n",
    "# 8) verify the name was successful changed by listing the content of the current directory\n",
    "# 9) remove `sub_practice_2`\n",
    "# 10) change working directory to the parent directory using `..`\n",
    "# 11) remove `practice_1`\n",
    "# 12) verify your current working directory and display its content\n",
    "\n",
    "import os, os.path\n",
    "\n",
    "# 1) navigate to `parent_dir` directory (if not already in it)\n",
    "if('parent_dir' not in os.getcwd()):\n",
    "    # Changing the current working directory to parent dir\n",
    "    print(\"Changing working dir to parent_dir\")\n",
    "    os.chdir('parent_dir')\n",
    "    print(\"Current working directory:\", os.getcwd())\n",
    "\n",
    "# 2) create a new directory called `practice_1`\n",
    "os.mkdir('practice_1')\n",
    "# 3) change the working directory to `practice_1`\n",
    "os.chdir('practice_1')\n",
    "# 4) display the current working directory to verify you are in the correct location\n",
    "print(\"Current working directory\", os.getcwd())\n",
    "# 5) create a new directory called `practice_2`\n",
    "os.mkdir('practice_2')\n",
    "# 6) verify that `practice_2` was created by listing the content of the current directory\n",
    "print(\"Listing directory in current directory\", os.listdir())\n",
    "# 7) rename `practice_2` as `sub_practice_2`\n",
    "os.rename('practice_2', 'sub_practice_2')\n",
    "# 8) verify the name was successful changed by listing the content of the current directory\n",
    "print(\"Listing directory in current directory\", os.listdir())\n",
    "# 9) remove `sub_practice_2`\n",
    "os.rmdir('sub_practice_2')\n",
    "# 10) change working directory to the parent directory using `..`\n",
    "os.chdir('..')\n",
    "# 11) remove `practice_1`\n",
    "os.rmdir('practice_1')\n",
    "# 12) verify your current working directory and display its content\n",
    "print(\"Listing directory in current directory\", os.listdir())"
   ]
  },
  {
   "cell_type": "markdown",
   "metadata": {},
   "source": [
    "### Path operations"
   ]
  },
  {
   "cell_type": "code",
   "execution_count": 31,
   "metadata": {},
   "outputs": [
    {
     "name": "stdout",
     "output_type": "stream",
     "text": [
      "Enter a file or directory name: child1_dir\n",
      "Path exists\n",
      "It's a dir\n"
     ]
    }
   ],
   "source": [
    "# [ ] Write a program that prompts the user for a file or directory name\n",
    "# if it exists in the current working directory, it prints whether it is a file or directory\n",
    "\n",
    "import os, os.path\n",
    "\n",
    "ask_user = input('Enter a file or directory name: ')\n",
    "\n",
    "if(os.path.exists(ask_user)):\n",
    "    print(\"Path exists\")\n",
    "    \n",
    "    if(os.path.isfile(ask_user)):\n",
    "       print(\"It's a file\")\n",
    "    elif (os.path.isdir(ask_user)):\n",
    "       print(\"It's a dir\")\n",
    "    \n",
    "else:\n",
    "    print(\"Path doesn't exist\")\n"
   ]
  },
  {
   "cell_type": "markdown",
   "metadata": {},
   "source": [
    "---\n",
    "<font size=\"6\" color=\"#B24C00\"  face=\"verdana\"> <B>Module 1 Project</B></font>\n",
    "\n",
    "## Directory creator\n",
    "\n"
   ]
  },
  {
   "cell_type": "code",
   "execution_count": null,
   "metadata": {
    "collapsed": true
   },
   "outputs": [],
   "source": [
    "# [ ] The following program is designed to generate a number of directories.\n",
    "# The directory names follow the pattern (MM_DD_YY_randnum), where:\n",
    "#     - MM_DD_YY: is today's date as month/day/year\n",
    "#     - randnum: is a random integer between 10000 and 50000\n",
    "# For example, if today is May 12th, 2016, then the following would be valid names: 05_12_16_11050 or 05_12_16_15001\n",
    "#\n",
    "# For this task, you should complete the functions:\n",
    "# 1) `directory_count()`\n",
    "# 2) `name_generator()`\n",
    "# 3) `directory_creator(name)`\n",
    "# 4) `create()`\n",
    "#\n",
    "# HINT: You should import all necessary modules\n",
    "\n",
    "import os\n",
    "\n",
    "def directory_count():\n",
    "    \"\"\"\n",
    "    Calculate the number of directories to be generated.\n",
    "    \n",
    "    I) Get the current minute using appropriate functionality from `datetime`\n",
    "    II) Take the square root of ..the current minute + 15\n",
    "    III) Round the square root to an integer\n",
    "    VI) return the rounded number as the number of directories to be created\n",
    "    \n",
    "    args: \n",
    "          NONE\n",
    "    \n",
    "    returns: \n",
    "         `dir_count`: number of directories to be created \n",
    "    \"\"\"\n",
    "    #TODO\n",
    "\n",
    "def name_generator():\n",
    "    \"\"\"\n",
    "    Generate a single directory name using the pattern (MM_DD_YY_randnum).\n",
    "    \n",
    "    args:\n",
    "         NONE\n",
    "    \n",
    "    returns:\n",
    "         `dir_name`: string containing a valid directory name\n",
    "    \"\"\"\n",
    "    #TODO\n",
    "\n",
    "def directory_creator(name):\n",
    "    \"\"\"\n",
    "    Create a single directory called `name` in the current working directory.\n",
    "    \n",
    "    args:\n",
    "         name: directory to be created\n",
    "    \n",
    "    returns:\n",
    "         NONE\n",
    "    \"\"\"\n",
    "    #TODO\n",
    "\n",
    "def create():\n",
    "    \"\"\"\n",
    "    Generate the necessary directories.\n",
    "    \n",
    "    Use `directory_count` to calculate the number of directories, then use `directory_creator` and `name_generator`.\n",
    "\n",
    "    args:\n",
    "         NONE\n",
    "    \n",
    "    returns:\n",
    "         NONE\n",
    "    \"\"\"\n",
    "    #TODO\n",
    "\n",
    "# Change working directory to `parent_dir` or `create`\n",
    "if(\"parent_dir\" not in os.getcwd()):\n",
    "    if os.path.exists(\"./parent_dir\"):\n",
    "        print(\"Changing working dir to parent_dir\")\n",
    "        os.chdir(\"parent_dir\")\n",
    "    else:\n",
    "        os.mkdir(os.getcwd() + \"./parent_dir\")\n",
    "        print(\"Changing working dir to parent_dir\")\n",
    "        os.chdir(\"parent_dir\")\n",
    "else:\n",
    "    # so the code can run multiple times \n",
    "    # while directory not ending with 'parent_dir' move up the path ..\\\n",
    "    while \"parent_dir\" not in os.getcwd()[-11:]:\n",
    "        # move up in dir to find 'parent_dir'\n",
    "        os.chdir(\"..\")\n",
    "        print(\"moved up\", os.getcwd())\n",
    "        \n",
    "# print the current working directory (should be \"parent_dir\")\n",
    "print(\"The current working directory is:\", os.getcwd())\n",
    "\n",
    "# check for randoms_directory if not present, create new\n",
    "if os.path.exists(os.getcwd() + \"/randoms_directory\") != True:\n",
    "    os.mkdir(\"randoms_directory\")\n",
    "\n",
    "# change the current working directory to randoms_directory\n",
    "print(\"Changing working dir to randoms_directory\")\n",
    "os.chdir(\"randoms_directory\")\n",
    "# print the current working directory (should be \"randoms_dir\")\n",
    "print(\"The current working directory is:\", os.getcwd())\n",
    "\n",
    "# create directories inside \"randoms_directory\"\n",
    "create()\n",
    "    \n",
    "# list the content of the current directory\n",
    "print(\"Current directory content:\", os.listdir())\n",
    "\n",
    "\n"
   ]
  },
  {
   "cell_type": "code",
   "execution_count": 43,
   "metadata": {},
   "outputs": [
    {
     "name": "stdout",
     "output_type": "stream",
     "text": [
      "06_16_20_16174\n"
     ]
    }
   ],
   "source": [
    "from datetime import datetime\n",
    "from random import randint\n",
    "\n",
    "x = randint(10000, 50000)\n",
    "dt = datetime.today()\n",
    "print(dt.strftime('%m_%d_%y_') + str(x))"
   ]
  }
 ],
 "metadata": {
  "kernelspec": {
   "display_name": "Python 3",
   "language": "python",
   "name": "python3"
  },
  "language_info": {
   "codemirror_mode": {
    "name": "ipython",
    "version": 3
   },
   "file_extension": ".py",
   "mimetype": "text/x-python",
   "name": "python",
   "nbconvert_exporter": "python",
   "pygments_lexer": "ipython3",
   "version": "3.6.9"
  }
 },
 "nbformat": 4,
 "nbformat_minor": 2
}
