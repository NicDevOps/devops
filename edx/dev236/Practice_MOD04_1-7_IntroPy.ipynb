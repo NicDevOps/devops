{
 "cells": [
  {
   "cell_type": "markdown",
   "metadata": {},
   "source": [
    "# 1-7.2 Intro Python Practice\n",
    "## `while()` loops & increments\n",
    "<font size=\"5\" color=\"#00A0B2\"  face=\"verdana\"> <B>Student will be able to</B></font>\n",
    "- create forever loops using `while` and `break`\n",
    "- use incrementing variables in a while loop\n",
    "- control while loops using Boolean operators"
   ]
  },
  {
   "cell_type": "code",
   "execution_count": 4,
   "metadata": {},
   "outputs": [
    {
     "name": "stdout",
     "output_type": "stream",
     "text": [
      "Enter a number: 5\n",
      "Enter a number: 6\n",
      "Enter a number: 4\n",
      "Enter a number: b\n",
      "break\n",
      "sum = 15\n"
     ]
    }
   ],
   "source": [
    "# [ ] use a \"forever\" while loop to get user input of integers to add to sum, \n",
    "# until a non-digit is entered, then break the loop and print sum\n",
    "sum = 0\n",
    "number = input('Enter a number: ')\n",
    "\n",
    "while True:\n",
    "    if number.isdigit():\n",
    "        sum += int(number)\n",
    "        number = input('Enter a number: ')\n",
    "    else:\n",
    "        print('break')\n",
    "        break\n",
    "print('sum =', sum)\n",
    "\n"
   ]
  },
  {
   "cell_type": "code",
   "execution_count": null,
   "metadata": {},
   "outputs": [],
   "source": []
  },
  {
   "cell_type": "code",
   "execution_count": 17,
   "metadata": {},
   "outputs": [
    {
     "name": "stdout",
     "output_type": "stream",
     "text": [
      "Find rainbow color: adsasdasd\n",
      "Find rainbow color: asdadasd\n",
      "Find rainbow color: asdasd\n",
      "Find rainbow color: adad\n",
      "Try again!\n"
     ]
    }
   ],
   "source": [
    "# [ ] use a while True loop (forever loop) to give 4 chances for input of a correct color in a rainbow\n",
    "rainbow = \"red orange yellow green blue indigo violet\"\n",
    "chances = 4\n",
    "\n",
    "while True:\n",
    "    check_color = input('Find rainbow color: ')\n",
    "    if check_color in rainbow:\n",
    "        print('Success!')\n",
    "        break\n",
    "    chances -= 1\n",
    "    if chances == 0:\n",
    "        print('Try again!')\n",
    "        break\n",
    "\n",
    "\n"
   ]
  },
  {
   "cell_type": "code",
   "execution_count": 18,
   "metadata": {},
   "outputs": [
    {
     "name": "stdout",
     "output_type": "stream",
     "text": [
      "Enter a book title: dude\n",
      "Enter a book title: asd\n",
      "Enter a book title: sad\n",
      "Enter a book title: Dune\n"
     ]
    }
   ],
   "source": [
    "# [ ] Get input for a book title, keep looping while input is Not in title format (title is every word capitalized)\n",
    "title = \"\"\n",
    "\n",
    "while not title.istitle():\n",
    "    title = input('Enter a book title: ')\n",
    "    \n"
   ]
  },
  {
   "cell_type": "code",
   "execution_count": 23,
   "metadata": {},
   "outputs": [
    {
     "name": "stdout",
     "output_type": "stream",
     "text": [
      "7 * 8 = ?: 23\n",
      "7 * 8 = ?: 43\n",
      "7 * 8 = ?: 56\n"
     ]
    }
   ],
   "source": [
    "# [ ] create a math quiz question and ask for the solution until the input is correct\n",
    "check_solution = 0\n",
    "\n",
    "while not check_solution == 56:\n",
    "    check_solution = int(input('7 * 8 = ?: '))\n",
    "\n",
    "\n"
   ]
  },
  {
   "cell_type": "markdown",
   "metadata": {},
   "source": [
    "### Fix the Error"
   ]
  },
  {
   "cell_type": "code",
   "execution_count": 27,
   "metadata": {},
   "outputs": [
    {
     "name": "stdout",
     "output_type": "stream",
     "text": [
      "enter tickets remaining (0 to quit): 2\n",
      "sorry, not a winner.\n",
      "enter tickets remaining (0 to quit): 5\n",
      "sorry, not a winner.\n",
      "enter tickets remaining (0 to quit): 7\n",
      "sorry, not a winner.\n",
      "enter tickets remaining (0 to quit): 11\n",
      "sorry, not a winner.\n",
      "enter tickets remaining (0 to quit): 10\n",
      "sorry, not a winner.\n",
      "enter tickets remaining (0 to quit): 9\n",
      "you win!\n",
      "Game ended\n"
     ]
    }
   ],
   "source": [
    "# [ ] review the code, run, fix the error\n",
    "tickets = int(input(\"enter tickets remaining (0 to quit): \"))\n",
    "\n",
    "while tickets > 0:\n",
    "        # if tickets are multiple of 3 then \"winner\"\n",
    "    if int(tickets/3) == tickets/3:\n",
    "        print(\"you win!\")\n",
    "        break\n",
    "    else:\n",
    "        print(\"sorry, not a winner.\")\n",
    "    tickets = int(input(\"enter tickets remaining (0 to quit): \"))\n",
    "\n",
    "print(\"Game ended\")\n",
    "    \n"
   ]
  },
  {
   "cell_type": "markdown",
   "metadata": {},
   "source": [
    "### create a function: quiz_item()  that asks a question and tests if input is correct  \n",
    "- quiz_item()has 2 parameter **strings**: question and solution  \n",
    "- shows question, gets answer input  \n",
    "- returns True if `answer == solution` or continues to ask question until correct answer is provided  \n",
    "- use a while loop\n",
    "\n",
    "create 2 or more quiz questions that call quiz_item()  \n",
    "**Hint**: provide multiple choice or T/F answers"
   ]
  },
  {
   "cell_type": "code",
   "execution_count": 41,
   "metadata": {},
   "outputs": [
    {
     "name": "stdout",
     "output_type": "stream",
     "text": [
      "Is the water blue?\n",
      "True of false ? T|F: F\n",
      "Is the water blue?\n",
      "True of false ? T|F: F\n",
      "Is the water blue?\n",
      "True of false ? T|F: f\n",
      "Is the water blue?\n",
      "True of false ? T|F: T\n",
      "Is the apple green?\n",
      "True of false ? T|F: T\n",
      "Is the snow cold?\n",
      "True of false ? T|F: T\n"
     ]
    },
    {
     "data": {
      "text/plain": [
       "True"
      ]
     },
     "execution_count": 41,
     "metadata": {},
     "output_type": "execute_result"
    }
   ],
   "source": [
    "# Create quiz_item() and 2 or more quiz questions that call quiz_item()\n",
    "answer = ''\n",
    "solution = ''\n",
    "\n",
    "def quiz_item(question,solution):\n",
    "    print(question)\n",
    "    while True:\n",
    "        answer = input('True of false ? T|F: ')\n",
    "        if answer == solution:\n",
    "            return True\n",
    "            break\n",
    "        else:\n",
    "            print(question)\n",
    "            \n",
    "    \n",
    "quiz_item('Is the water blue?','T')\n",
    "\n",
    "quiz_item('Is the apple green?','T')\n",
    "\n",
    "quiz_item('Is the snow cold?','T')"
   ]
  },
  {
   "cell_type": "markdown",
   "metadata": {
    "collapsed": true
   },
   "source": [
    "[Terms of use](http://go.microsoft.com/fwlink/?LinkID=206977) &nbsp; [Privacy & cookies](https://go.microsoft.com/fwlink/?LinkId=521839) &nbsp; © 2017 Microsoft"
   ]
  }
 ],
 "metadata": {
  "anaconda-cloud": {},
  "kernelspec": {
   "display_name": "Python 3",
   "language": "python",
   "name": "python3"
  },
  "language_info": {
   "codemirror_mode": {
    "name": "ipython",
    "version": 3
   },
   "file_extension": ".py",
   "mimetype": "text/x-python",
   "name": "python",
   "nbconvert_exporter": "python",
   "pygments_lexer": "ipython3",
   "version": "3.7.6"
  }
 },
 "nbformat": 4,
 "nbformat_minor": 1
}
