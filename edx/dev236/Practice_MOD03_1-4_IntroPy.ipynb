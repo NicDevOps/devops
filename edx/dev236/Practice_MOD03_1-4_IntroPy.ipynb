{
 "cells": [
  {
   "cell_type": "markdown",
   "metadata": {},
   "source": [
    "# 1-4.3 Intro Python Practice\n",
    "## Conditionals \n",
    "<font size=\"5\" color=\"#00A0B2\"  face=\"verdana\"> <B>Student will be able to</B></font>  \n",
    "- **control code flow with `if`... `else` conditional logic**  \n",
    "  - using Boolean string methods (`.isupper(), .isalpha(), .startswith()...`)  \n",
    "  - using comparision (`>, <, >=, <=, ==, !=`)  \n",
    "  - using Strings in comparisons  "
   ]
  },
  {
   "cell_type": "markdown",
   "metadata": {},
   "source": [
    "## `if else`\n"
   ]
  },
  {
   "cell_type": "code",
   "execution_count": 5,
   "metadata": {},
   "outputs": [
    {
     "name": "stdout",
     "output_type": "stream",
     "text": [
      "24\n",
      "your will have: 34 in 10 years\n"
     ]
    }
   ],
   "source": [
    "# [ ] input avariable: age as digit and cast to int\n",
    "age = int(input())\n",
    "# if age greater than or equal to 12 then print message on age in 10 years \n",
    "# or else print message \"It is good to be\" age\n",
    "if age >= 12:\n",
    "    print(\"your will have:\", age + 10, \"in 10 years\")\n",
    "else:\n",
    "    print(\"It is good to be\", age)\n"
   ]
  },
  {
   "cell_type": "code",
   "execution_count": 3,
   "metadata": {},
   "outputs": [
    {
     "name": "stdout",
     "output_type": "stream",
     "text": [
      "Enter a number: d\n",
      "Only int is accepted\n"
     ]
    }
   ],
   "source": [
    "# [ ] input a number\n",
    "number = input('Enter a number: ')\n",
    "# if number IS a digit string then cast to int\n",
    "# print number \"greater than 100 is\" True/False\n",
    "# if number is NOT a digit string then message the user that \"only int is accepted\"\n",
    "\n",
    "if number.isdigit():\n",
    "    print(\"greater than 100 is\", int(number) > 100)\n",
    "else:\n",
    "    print(\"Only int is accepted\")\n",
    "   \n",
    "    \n",
    "\n"
   ]
  },
  {
   "cell_type": "markdown",
   "metadata": {},
   "source": [
    "### Guessing a letter A-Z  \n",
    "**check_guess()** takes 2 string arguments: **letter and guess** (both expect single alphabetical character)   \n",
    "    - if guess is not an alpha character print invalid and return False\n",
    "    - test and print if guess is \"high\" or \"low\" and return False\n",
    "    - test and print if guess is \"correct\" and return True"
   ]
  },
  {
   "cell_type": "code",
   "execution_count": 14,
   "metadata": {},
   "outputs": [
    {
     "name": "stdout",
     "output_type": "stream",
     "text": [
      "Low\n"
     ]
    },
    {
     "data": {
      "text/plain": [
       "False"
      ]
     },
     "execution_count": 14,
     "metadata": {},
     "output_type": "execute_result"
    }
   ],
   "source": [
    "letter_01 = 'k'\n",
    "# [ ] create check_guess()\n",
    "def check_guess(letter,guess):\n",
    "    if not guess.isalpha():\n",
    "        print('Invalid')\n",
    "        return False\n",
    "    if guess > letter:\n",
    "        print('High')\n",
    "        return False\n",
    "    if guess < letter:\n",
    "        print('Low')\n",
    "        return False \n",
    "    if guess == letter:\n",
    "        print('correct')\n",
    "        return True\n",
    "        \n",
    "# call with test\n",
    "test = 'a'\n",
    "\n",
    "check_guess(letter_01,test)\n",
    "\n"
   ]
  },
  {
   "cell_type": "code",
   "execution_count": 18,
   "metadata": {},
   "outputs": [
    {
     "name": "stdout",
     "output_type": "stream",
     "text": [
      "Guess a letter!: k\n",
      "correct\n"
     ]
    },
    {
     "data": {
      "text/plain": [
       "True"
      ]
     },
     "execution_count": 18,
     "metadata": {},
     "output_type": "execute_result"
    }
   ],
   "source": [
    "# [ ] call check_guess with user input\n",
    "us_in = input('Guess a letter!: ')\n",
    "\n",
    "check_guess(letter_01,us_in)\n"
   ]
  },
  {
   "cell_type": "markdown",
   "metadata": {},
   "source": [
    "### Letter Guess\n",
    "**create letter_guess() function that gives user 3 guesses**\n",
    "- takes a letter character argument for the answer letter\n",
    "- gets user input for letter guess  \n",
    "- calls check_guess() with answer and guess\n",
    "- End letter_guess if \n",
    "    - check_guess() equals True, return True  \n",
    "    - or after 3 failed attempts, return False"
   ]
  },
  {
   "cell_type": "code",
   "execution_count": 25,
   "metadata": {},
   "outputs": [
    {
     "name": "stdout",
     "output_type": "stream",
     "text": [
      "Guess a letter!: s\n",
      "High\n",
      "High\n",
      "Two more tries!\n",
      "Guess a letter!: a\n"
     ]
    }
   ],
   "source": [
    "# [ ] create letter_guess() function, call the function to test\n",
    "us_in = input('Guess a letter!: ')\n",
    "\n",
    "def letter_guess(answer,guess):\n",
    "    if check_guess(answer,guess) == True:\n",
    "        return True\n",
    "    elif check_guess(answer,guess) == False:\n",
    "        print('Two more tries!')\n",
    "        return False\n",
    "    elif check_guess(answer,guess) == False:\n",
    "        print('One more try!')\n",
    "        us_in = input('Guess a letter!: ')\n",
    "    else:\n",
    "        print('You lost!')\n",
    "        return False\n",
    "\n",
    "letter_guess(letter_01,us_in)\n",
    "\n"
   ]
  },
  {
   "cell_type": "markdown",
   "metadata": {},
   "source": [
    "### Pet Conversation\n",
    "**ask the user for a sentence about a pet and then reply**  \n",
    "- get user input in variable: about_pet\n",
    "- using a series of **if** statements respond with appropriate conversation\n",
    "  - check if \"dog\" is in the string about_pet (sample reply \"Ah, a dog\")\n",
    "  - check if \"cat\" is in the string about_pet\n",
    "  - check if 1 or more animal is in string about_pet\n",
    "- no need for **else**'s\n",
    "- finish with thanking for the story"
   ]
  },
  {
   "cell_type": "code",
   "execution_count": null,
   "metadata": {
    "collapsed": true
   },
   "outputs": [],
   "source": [
    "# [ ] complete pet conversation\n",
    "\n"
   ]
  },
  {
   "cell_type": "markdown",
   "metadata": {
    "collapsed": true
   },
   "source": [
    "[Terms of use](http://go.microsoft.com/fwlink/?LinkID=206977) &nbsp; [Privacy & cookies](https://go.microsoft.com/fwlink/?LinkId=521839) &nbsp; © 2017 Microsoft"
   ]
  }
 ],
 "metadata": {
  "anaconda-cloud": {},
  "kernelspec": {
   "display_name": "Python 3",
   "language": "python",
   "name": "python3"
  },
  "language_info": {
   "codemirror_mode": {
    "name": "ipython",
    "version": 3
   },
   "file_extension": ".py",
   "mimetype": "text/x-python",
   "name": "python",
   "nbconvert_exporter": "python",
   "pygments_lexer": "ipython3",
   "version": "3.7.6"
  }
 },
 "nbformat": 4,
 "nbformat_minor": 1
}
