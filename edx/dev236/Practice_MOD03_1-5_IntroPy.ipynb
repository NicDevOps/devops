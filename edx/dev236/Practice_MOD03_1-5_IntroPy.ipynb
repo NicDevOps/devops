{
 "cells": [
  {
   "cell_type": "markdown",
   "metadata": {},
   "source": [
    "# 1-5 Intro Python Practice  \n",
    "## conditionals, type, and mathematics extended   \n",
    "&nbsp;\n",
    "<font size=\"5\" color=\"#00A0B2\"  face=\"verdana\"> <B>Student will be able to</B></font>  \n",
    "- code more than two choices using **`elif`** \n",
    "- gather numeric input using type casting  \n",
    "- perform subtraction, multiplication and division operations in code  &nbsp;  \n"
   ]
  },
  {
   "cell_type": "markdown",
   "metadata": {},
   "source": [
    "# &nbsp;  \n",
    "<font size=\"6\" color=\"#B24C00\"  face=\"verdana\"> <B>Tasks</B></font>"
   ]
  },
  {
   "cell_type": "markdown",
   "metadata": {},
   "source": [
    "### Rainbow colors\n",
    "ask for input of a favorite rainbow color first letter: ROYGBIV  \n",
    "\n",
    "Using `if`, `elif`, and `else`:  \n",
    "- print the color matching the letter  \n",
    "    - R = Red  \n",
    "    - O = Orange  \n",
    "    - Y = Yellow  \n",
    "    - G = Green\n",
    "    - B = Blue\n",
    "    - I = Indigo\n",
    "    - V = Violet\n",
    "    - else print \"no match\"\n"
   ]
  },
  {
   "cell_type": "code",
   "execution_count": 4,
   "metadata": {},
   "outputs": [
    {
     "name": "stdout",
     "output_type": "stream",
     "text": [
      "Enter rainbow color first letter: ROYGBIV : b\n",
      "no match\n"
     ]
    }
   ],
   "source": [
    "# [ ] complete rainbow colors\n",
    "\n",
    "ask_color = input(\"Enter rainbow color first letter: ROYGBIV : \")\n",
    "\n",
    "if ask_color == 'R':\n",
    "    print('The color is Red!')\n",
    "elif ask_color == 'O':\n",
    "    print('The color is Orange!')\n",
    "elif ask_color == 'Y':\n",
    "    print('The color is Yellow!')\n",
    "elif ask_color == 'G':\n",
    "    print('The color is Gree!')\n",
    "elif ask_color == 'B':\n",
    "    print('The color is Blue!')\n",
    "elif ask_color == 'I':\n",
    "    print('The color is Indigo!')\n",
    "elif ask_color == 'V':\n",
    "    print('The color is Violet!')\n",
    "else:\n",
    "    print(\"no match\")\n",
    "\n"
   ]
  },
  {
   "cell_type": "code",
   "execution_count": 6,
   "metadata": {},
   "outputs": [
    {
     "name": "stdout",
     "output_type": "stream",
     "text": [
      "Enter rainbow color first letter: ROYGBIV : O\n",
      "The color is Orange!\n"
     ]
    }
   ],
   "source": [
    "# [ ] make the code above into a function rainbow_color() that has a string parameter, \n",
    "# get input and call the function and return the matching color as a string or \"no match\" message.\n",
    "# Call the function and print the return string.\n",
    "def rainbow_color(color):\n",
    "    if color == 'R':\n",
    "        print('The color is Red!')\n",
    "    elif color == 'O':\n",
    "        print('The color is Orange!')\n",
    "    elif color == 'Y':\n",
    "        print('The color is Yellow!')\n",
    "    elif color == 'G':\n",
    "        print('The color is Green!')\n",
    "    elif color == 'B':\n",
    "        print('The color is Blue!')\n",
    "    elif color == 'I':\n",
    "        print('The color is Indigo!')\n",
    "    elif color == 'V':\n",
    "        print('The color is Violet!')\n",
    "    else:\n",
    "        print(\"no match\")\n",
    "\n",
    "ask_color1 = input(\"Enter rainbow color first letter: ROYGBIV : \")\n",
    "\n",
    "rainbow_color(ask_color1)\n"
   ]
  },
  {
   "cell_type": "markdown",
   "metadata": {},
   "source": [
    "# &nbsp;  \n",
    "**Create function age_20() that adds or subtracts 20 from your age for a return value based on current age** (use `if`) \n",
    "- call the funtion with user input and then use the return value in a sentence  \n",
    "example `age_20(25)` returns **5**: \n",
    "> \"5 years old, 20 years difference from now\""
   ]
  },
  {
   "cell_type": "code",
   "execution_count": 13,
   "metadata": {},
   "outputs": [
    {
     "name": "stdout",
     "output_type": "stream",
     "text": [
      "Enter your age: 25\n",
      "5 years old, 20 years difference from now\n"
     ]
    }
   ],
   "source": [
    "# [ ] complete age_20()\n",
    "\n",
    "ask_age = input('Enter your age: ')\n",
    "\n",
    "def age_20(age):\n",
    "    if int(age) < 25:\n",
    "        return int(age) + 20\n",
    "    else:\n",
    "        return int(age) - 20\n",
    "\n",
    "age_result = age_20(ask_age)\n",
    "\n",
    "print(age_result, 'years old, 20 years difference from now')\n",
    "    \n"
   ]
  },
  {
   "cell_type": "markdown",
   "metadata": {},
   "source": [
    "**create a function rainbow_or_age that takes a string argument**\n",
    "- if argument is a digit return the value of calling age_20() with the str value cast as **`int`** \n",
    "- if argument is an alphabetical character return the value of calling rainbow_color() with the str\n",
    "- if neither return FALSE"
   ]
  },
  {
   "cell_type": "code",
   "execution_count": 28,
   "metadata": {},
   "outputs": [
    {
     "name": "stdout",
     "output_type": "stream",
     "text": [
      "Enter a rainbow color ROYGBIV or your age: I\n",
      "The color is Indigo!\n",
      "None\n"
     ]
    }
   ],
   "source": [
    "# [ ]  create rainbow_or_age()\n",
    "\n",
    "age_or_rainbow = input(\"Enter a rainbow color ROYGBIV or your age: \")\n",
    "\n",
    "def rainbow_or_age(arg):\n",
    "    if arg.isdigit():\n",
    "        return int(age_20(arg))\n",
    "    elif arg.isalpha():\n",
    "        return rainbow_color(arg)\n",
    "    else:\n",
    "        return False\n",
    "\n",
    "results = rainbow_or_age(age_or_rainbow)\n",
    "\n",
    "print(results)"
   ]
  },
  {
   "cell_type": "code",
   "execution_count": 29,
   "metadata": {},
   "outputs": [
    {
     "name": "stdout",
     "output_type": "stream",
     "text": [
      "Enter a number: 5\n",
      "Enter a second number: 4\n",
      "9\n"
     ]
    }
   ],
   "source": [
    "# [ ]  add 2 numbers from input using a cast to integer and display the answer \n",
    "x = int(input('Enter a number: '))\n",
    "y = int(input('Enter a second number: '))\n",
    "\n",
    "print(x + y)\n"
   ]
  },
  {
   "cell_type": "code",
   "execution_count": 30,
   "metadata": {},
   "outputs": [
    {
     "name": "stdout",
     "output_type": "stream",
     "text": [
      "Enter a number: 4\n",
      "Enter a second number: 5\n",
      "The answer is:  20\n"
     ]
    }
   ],
   "source": [
    "# [ ] Multiply 2 numbers from input using cast and save the answer as part of a string \"the answer is...\"\n",
    "# display the string using print\n",
    "x = int(input('Enter a number: '))\n",
    "y = int(input('Enter a second number: '))\n",
    "\n",
    "print('The answer is: ', x * y)\n"
   ]
  },
  {
   "cell_type": "code",
   "execution_count": 31,
   "metadata": {},
   "outputs": [
    {
     "name": "stdout",
     "output_type": "stream",
     "text": [
      "Enter a number: 25\n",
      "Enter a second number: 75\n",
      "The average is:  50.0\n"
     ]
    }
   ],
   "source": [
    "# [ ] get input of 2 numbers and display the average: (num1 + num2) divided by 2\n",
    "x = int(input('Enter a number: '))\n",
    "y = int(input('Enter a second number: '))\n",
    "\n",
    "print('The average is: ', (x + y) / 2)\n"
   ]
  },
  {
   "cell_type": "code",
   "execution_count": 34,
   "metadata": {},
   "outputs": [
    {
     "name": "stdout",
     "output_type": "stream",
     "text": [
      "Enter a number: 5\n",
      "Enter a second number: 25\n",
      "The answer is:  20\n"
     ]
    }
   ],
   "source": [
    "# [ ] get input of 2 numbers and subtract the largest from the smallest (use an if statement to see which is larger)\n",
    "# show the answer\n",
    "x = int(input('Enter a number: '))\n",
    "y = int(input('Enter a second number: '))\n",
    "\n",
    "if x > y:\n",
    "    print('The answer is: ', x - y)\n",
    "else:\n",
    "    print('The answer is: ', y - x)\n"
   ]
  },
  {
   "cell_type": "code",
   "execution_count": 39,
   "metadata": {},
   "outputs": [
    {
     "name": "stdout",
     "output_type": "stream",
     "text": [
      "Enter a number: 25\n",
      "Enter a second number: 13\n",
      "1\n"
     ]
    }
   ],
   "source": [
    "# [ ] Divide a larger number by a smaller number and print the integer part of the result\n",
    "# don't divide by zero! if a zero is input make the result zero\n",
    "# [ ] cast the answer to an integer to cut off the decimals and print the result\n",
    "\n",
    "x = int(input('Enter a number: '))\n",
    "y = int(input('Enter a second number: '))\n",
    "\n",
    "def large_small(num1,num2):\n",
    "    if num1 > num2:\n",
    "        if num2 == 0:\n",
    "            print('Dont divide by zero!')\n",
    "            return False\n",
    "        else:\n",
    "            return num1 / num2\n",
    "    else:\n",
    "        if num1 == 0:\n",
    "            print('Dont divide by zero!')\n",
    "            return False\n",
    "        else:\n",
    "            return num2 / num1\n",
    "\n",
    "result = large_small(x,y)\n",
    "\n",
    "print(int(result))\n",
    "            \n",
    "\n"
   ]
  },
  {
   "cell_type": "markdown",
   "metadata": {},
   "source": [
    "[Terms of use](http://go.microsoft.com/fwlink/?LinkID=206977) &nbsp; [Privacy & cookies](https://go.microsoft.com/fwlink/?LinkId=521839) &nbsp; © 2017 Microsoft"
   ]
  }
 ],
 "metadata": {
  "anaconda-cloud": {},
  "kernelspec": {
   "display_name": "Python 3",
   "language": "python",
   "name": "python3"
  },
  "language_info": {
   "codemirror_mode": {
    "name": "ipython",
    "version": 3
   },
   "file_extension": ".py",
   "mimetype": "text/x-python",
   "name": "python",
   "nbconvert_exporter": "python",
   "pygments_lexer": "ipython3",
   "version": "3.7.6"
  }
 },
 "nbformat": 4,
 "nbformat_minor": 1
}
